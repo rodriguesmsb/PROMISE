{
 "cells": [
  {
   "cell_type": "code",
   "execution_count": 1,
   "id": "d1227743-7927-4333-9911-4118e9642c89",
   "metadata": {},
   "outputs": [
    {
     "name": "stderr",
     "output_type": "stream",
     "text": [
      "IProgress not found. Please update jupyter and ipywidgets. See https://ipywidgets.readthedocs.io/en/stable/user_install.html\n"
     ]
    }
   ],
   "source": [
    "from sklearn.model_selection import GridSearchCV\n",
    "from sklearn.model_selection import RepeatedKFold\n",
    "from sklearn.ensemble import RandomForestClassifier\n",
    "from sklearn.feature_selection import RFE\n",
    "from sklearn.metrics import classification_report, roc_auc_score, RocCurveDisplay, confusion_matrix, roc_curve, auc\n",
    "from sklearn.calibration import calibration_curve\n",
    "import pandas as pd\n",
    "import numpy as np\n",
    "import warnings\n",
    "import matplotlib.pyplot as plt\n",
    "import matplotlib\n",
    "import matplotlib.lines as mlines\n",
    "import matplotlib.transforms as mtransforms\n",
    "from statsmodels.stats.outliers_influence import variance_inflation_factor\n",
    "from lightgbm import LGBMClassifier\n",
    "import shap\n",
    "from sklearn.preprocessing import StandardScaler\n",
    "from sklearn.impute import SimpleImputer\n",
    "import roc_utils as ru\n",
    "import joblib"
   ]
  },
  {
   "cell_type": "code",
   "execution_count": 2,
   "id": "f9fa01d9-0ed9-4eed-a00b-d8f1ee26cc9c",
   "metadata": {
    "tags": []
   },
   "outputs": [],
   "source": [
    "warnings.filterwarnings(action = 'ignore')\n",
    "matplotlib.rc('xtick', labelsize=20) \n",
    "matplotlib.rc('ytick', labelsize=20) "
   ]
  },
  {
   "cell_type": "code",
   "execution_count": 3,
   "id": "aa468d49-a1fe-4195-939d-5a8025dbed58",
   "metadata": {},
   "outputs": [
    {
     "ename": "FileNotFoundError",
     "evalue": "[Errno 2] No such file or directory: '../data/promise_imputado.csv'",
     "output_type": "error",
     "traceback": [
      "\u001b[0;31m---------------------------------------------------------------------------\u001b[0m",
      "\u001b[0;31mFileNotFoundError\u001b[0m                         Traceback (most recent call last)",
      "Cell \u001b[0;32mIn[3], line 1\u001b[0m\n\u001b[0;32m----> 1\u001b[0m df \u001b[38;5;241m=\u001b[39m \u001b[43mpd\u001b[49m\u001b[38;5;241;43m.\u001b[39;49m\u001b[43mread_csv\u001b[49m\u001b[43m(\u001b[49m\u001b[38;5;124;43m\"\u001b[39;49m\u001b[38;5;124;43m../data/promise_imputado.csv\u001b[39;49m\u001b[38;5;124;43m\"\u001b[39;49m\u001b[43m,\u001b[49m\u001b[43m \u001b[49m\u001b[43msep\u001b[49m\u001b[43m \u001b[49m\u001b[38;5;241;43m=\u001b[39;49m\u001b[43m \u001b[49m\u001b[38;5;124;43m\"\u001b[39;49m\u001b[38;5;124;43m;\u001b[39;49m\u001b[38;5;124;43m\"\u001b[39;49m\u001b[43m)\u001b[49m\n",
      "File \u001b[0;32m/usr/local/lib/python3.10/dist-packages/pandas/io/parsers/readers.py:912\u001b[0m, in \u001b[0;36mread_csv\u001b[0;34m(filepath_or_buffer, sep, delimiter, header, names, index_col, usecols, dtype, engine, converters, true_values, false_values, skipinitialspace, skiprows, skipfooter, nrows, na_values, keep_default_na, na_filter, verbose, skip_blank_lines, parse_dates, infer_datetime_format, keep_date_col, date_parser, date_format, dayfirst, cache_dates, iterator, chunksize, compression, thousands, decimal, lineterminator, quotechar, quoting, doublequote, escapechar, comment, encoding, encoding_errors, dialect, on_bad_lines, delim_whitespace, low_memory, memory_map, float_precision, storage_options, dtype_backend)\u001b[0m\n\u001b[1;32m    899\u001b[0m kwds_defaults \u001b[38;5;241m=\u001b[39m _refine_defaults_read(\n\u001b[1;32m    900\u001b[0m     dialect,\n\u001b[1;32m    901\u001b[0m     delimiter,\n\u001b[0;32m   (...)\u001b[0m\n\u001b[1;32m    908\u001b[0m     dtype_backend\u001b[38;5;241m=\u001b[39mdtype_backend,\n\u001b[1;32m    909\u001b[0m )\n\u001b[1;32m    910\u001b[0m kwds\u001b[38;5;241m.\u001b[39mupdate(kwds_defaults)\n\u001b[0;32m--> 912\u001b[0m \u001b[38;5;28;01mreturn\u001b[39;00m \u001b[43m_read\u001b[49m\u001b[43m(\u001b[49m\u001b[43mfilepath_or_buffer\u001b[49m\u001b[43m,\u001b[49m\u001b[43m \u001b[49m\u001b[43mkwds\u001b[49m\u001b[43m)\u001b[49m\n",
      "File \u001b[0;32m/usr/local/lib/python3.10/dist-packages/pandas/io/parsers/readers.py:577\u001b[0m, in \u001b[0;36m_read\u001b[0;34m(filepath_or_buffer, kwds)\u001b[0m\n\u001b[1;32m    574\u001b[0m _validate_names(kwds\u001b[38;5;241m.\u001b[39mget(\u001b[38;5;124m\"\u001b[39m\u001b[38;5;124mnames\u001b[39m\u001b[38;5;124m\"\u001b[39m, \u001b[38;5;28;01mNone\u001b[39;00m))\n\u001b[1;32m    576\u001b[0m \u001b[38;5;66;03m# Create the parser.\u001b[39;00m\n\u001b[0;32m--> 577\u001b[0m parser \u001b[38;5;241m=\u001b[39m \u001b[43mTextFileReader\u001b[49m\u001b[43m(\u001b[49m\u001b[43mfilepath_or_buffer\u001b[49m\u001b[43m,\u001b[49m\u001b[43m \u001b[49m\u001b[38;5;241;43m*\u001b[39;49m\u001b[38;5;241;43m*\u001b[39;49m\u001b[43mkwds\u001b[49m\u001b[43m)\u001b[49m\n\u001b[1;32m    579\u001b[0m \u001b[38;5;28;01mif\u001b[39;00m chunksize \u001b[38;5;129;01mor\u001b[39;00m iterator:\n\u001b[1;32m    580\u001b[0m     \u001b[38;5;28;01mreturn\u001b[39;00m parser\n",
      "File \u001b[0;32m/usr/local/lib/python3.10/dist-packages/pandas/io/parsers/readers.py:1407\u001b[0m, in \u001b[0;36mTextFileReader.__init__\u001b[0;34m(self, f, engine, **kwds)\u001b[0m\n\u001b[1;32m   1404\u001b[0m     \u001b[38;5;28mself\u001b[39m\u001b[38;5;241m.\u001b[39moptions[\u001b[38;5;124m\"\u001b[39m\u001b[38;5;124mhas_index_names\u001b[39m\u001b[38;5;124m\"\u001b[39m] \u001b[38;5;241m=\u001b[39m kwds[\u001b[38;5;124m\"\u001b[39m\u001b[38;5;124mhas_index_names\u001b[39m\u001b[38;5;124m\"\u001b[39m]\n\u001b[1;32m   1406\u001b[0m \u001b[38;5;28mself\u001b[39m\u001b[38;5;241m.\u001b[39mhandles: IOHandles \u001b[38;5;241m|\u001b[39m \u001b[38;5;28;01mNone\u001b[39;00m \u001b[38;5;241m=\u001b[39m \u001b[38;5;28;01mNone\u001b[39;00m\n\u001b[0;32m-> 1407\u001b[0m \u001b[38;5;28mself\u001b[39m\u001b[38;5;241m.\u001b[39m_engine \u001b[38;5;241m=\u001b[39m \u001b[38;5;28;43mself\u001b[39;49m\u001b[38;5;241;43m.\u001b[39;49m\u001b[43m_make_engine\u001b[49m\u001b[43m(\u001b[49m\u001b[43mf\u001b[49m\u001b[43m,\u001b[49m\u001b[43m \u001b[49m\u001b[38;5;28;43mself\u001b[39;49m\u001b[38;5;241;43m.\u001b[39;49m\u001b[43mengine\u001b[49m\u001b[43m)\u001b[49m\n",
      "File \u001b[0;32m/usr/local/lib/python3.10/dist-packages/pandas/io/parsers/readers.py:1661\u001b[0m, in \u001b[0;36mTextFileReader._make_engine\u001b[0;34m(self, f, engine)\u001b[0m\n\u001b[1;32m   1659\u001b[0m     \u001b[38;5;28;01mif\u001b[39;00m \u001b[38;5;124m\"\u001b[39m\u001b[38;5;124mb\u001b[39m\u001b[38;5;124m\"\u001b[39m \u001b[38;5;129;01mnot\u001b[39;00m \u001b[38;5;129;01min\u001b[39;00m mode:\n\u001b[1;32m   1660\u001b[0m         mode \u001b[38;5;241m+\u001b[39m\u001b[38;5;241m=\u001b[39m \u001b[38;5;124m\"\u001b[39m\u001b[38;5;124mb\u001b[39m\u001b[38;5;124m\"\u001b[39m\n\u001b[0;32m-> 1661\u001b[0m \u001b[38;5;28mself\u001b[39m\u001b[38;5;241m.\u001b[39mhandles \u001b[38;5;241m=\u001b[39m \u001b[43mget_handle\u001b[49m\u001b[43m(\u001b[49m\n\u001b[1;32m   1662\u001b[0m \u001b[43m    \u001b[49m\u001b[43mf\u001b[49m\u001b[43m,\u001b[49m\n\u001b[1;32m   1663\u001b[0m \u001b[43m    \u001b[49m\u001b[43mmode\u001b[49m\u001b[43m,\u001b[49m\n\u001b[1;32m   1664\u001b[0m \u001b[43m    \u001b[49m\u001b[43mencoding\u001b[49m\u001b[38;5;241;43m=\u001b[39;49m\u001b[38;5;28;43mself\u001b[39;49m\u001b[38;5;241;43m.\u001b[39;49m\u001b[43moptions\u001b[49m\u001b[38;5;241;43m.\u001b[39;49m\u001b[43mget\u001b[49m\u001b[43m(\u001b[49m\u001b[38;5;124;43m\"\u001b[39;49m\u001b[38;5;124;43mencoding\u001b[39;49m\u001b[38;5;124;43m\"\u001b[39;49m\u001b[43m,\u001b[49m\u001b[43m \u001b[49m\u001b[38;5;28;43;01mNone\u001b[39;49;00m\u001b[43m)\u001b[49m\u001b[43m,\u001b[49m\n\u001b[1;32m   1665\u001b[0m \u001b[43m    \u001b[49m\u001b[43mcompression\u001b[49m\u001b[38;5;241;43m=\u001b[39;49m\u001b[38;5;28;43mself\u001b[39;49m\u001b[38;5;241;43m.\u001b[39;49m\u001b[43moptions\u001b[49m\u001b[38;5;241;43m.\u001b[39;49m\u001b[43mget\u001b[49m\u001b[43m(\u001b[49m\u001b[38;5;124;43m\"\u001b[39;49m\u001b[38;5;124;43mcompression\u001b[39;49m\u001b[38;5;124;43m\"\u001b[39;49m\u001b[43m,\u001b[49m\u001b[43m \u001b[49m\u001b[38;5;28;43;01mNone\u001b[39;49;00m\u001b[43m)\u001b[49m\u001b[43m,\u001b[49m\n\u001b[1;32m   1666\u001b[0m \u001b[43m    \u001b[49m\u001b[43mmemory_map\u001b[49m\u001b[38;5;241;43m=\u001b[39;49m\u001b[38;5;28;43mself\u001b[39;49m\u001b[38;5;241;43m.\u001b[39;49m\u001b[43moptions\u001b[49m\u001b[38;5;241;43m.\u001b[39;49m\u001b[43mget\u001b[49m\u001b[43m(\u001b[49m\u001b[38;5;124;43m\"\u001b[39;49m\u001b[38;5;124;43mmemory_map\u001b[39;49m\u001b[38;5;124;43m\"\u001b[39;49m\u001b[43m,\u001b[49m\u001b[43m \u001b[49m\u001b[38;5;28;43;01mFalse\u001b[39;49;00m\u001b[43m)\u001b[49m\u001b[43m,\u001b[49m\n\u001b[1;32m   1667\u001b[0m \u001b[43m    \u001b[49m\u001b[43mis_text\u001b[49m\u001b[38;5;241;43m=\u001b[39;49m\u001b[43mis_text\u001b[49m\u001b[43m,\u001b[49m\n\u001b[1;32m   1668\u001b[0m \u001b[43m    \u001b[49m\u001b[43merrors\u001b[49m\u001b[38;5;241;43m=\u001b[39;49m\u001b[38;5;28;43mself\u001b[39;49m\u001b[38;5;241;43m.\u001b[39;49m\u001b[43moptions\u001b[49m\u001b[38;5;241;43m.\u001b[39;49m\u001b[43mget\u001b[49m\u001b[43m(\u001b[49m\u001b[38;5;124;43m\"\u001b[39;49m\u001b[38;5;124;43mencoding_errors\u001b[39;49m\u001b[38;5;124;43m\"\u001b[39;49m\u001b[43m,\u001b[49m\u001b[43m \u001b[49m\u001b[38;5;124;43m\"\u001b[39;49m\u001b[38;5;124;43mstrict\u001b[39;49m\u001b[38;5;124;43m\"\u001b[39;49m\u001b[43m)\u001b[49m\u001b[43m,\u001b[49m\n\u001b[1;32m   1669\u001b[0m \u001b[43m    \u001b[49m\u001b[43mstorage_options\u001b[49m\u001b[38;5;241;43m=\u001b[39;49m\u001b[38;5;28;43mself\u001b[39;49m\u001b[38;5;241;43m.\u001b[39;49m\u001b[43moptions\u001b[49m\u001b[38;5;241;43m.\u001b[39;49m\u001b[43mget\u001b[49m\u001b[43m(\u001b[49m\u001b[38;5;124;43m\"\u001b[39;49m\u001b[38;5;124;43mstorage_options\u001b[39;49m\u001b[38;5;124;43m\"\u001b[39;49m\u001b[43m,\u001b[49m\u001b[43m \u001b[49m\u001b[38;5;28;43;01mNone\u001b[39;49;00m\u001b[43m)\u001b[49m\u001b[43m,\u001b[49m\n\u001b[1;32m   1670\u001b[0m \u001b[43m\u001b[49m\u001b[43m)\u001b[49m\n\u001b[1;32m   1671\u001b[0m \u001b[38;5;28;01massert\u001b[39;00m \u001b[38;5;28mself\u001b[39m\u001b[38;5;241m.\u001b[39mhandles \u001b[38;5;129;01mis\u001b[39;00m \u001b[38;5;129;01mnot\u001b[39;00m \u001b[38;5;28;01mNone\u001b[39;00m\n\u001b[1;32m   1672\u001b[0m f \u001b[38;5;241m=\u001b[39m \u001b[38;5;28mself\u001b[39m\u001b[38;5;241m.\u001b[39mhandles\u001b[38;5;241m.\u001b[39mhandle\n",
      "File \u001b[0;32m/usr/local/lib/python3.10/dist-packages/pandas/io/common.py:859\u001b[0m, in \u001b[0;36mget_handle\u001b[0;34m(path_or_buf, mode, encoding, compression, memory_map, is_text, errors, storage_options)\u001b[0m\n\u001b[1;32m    854\u001b[0m \u001b[38;5;28;01melif\u001b[39;00m \u001b[38;5;28misinstance\u001b[39m(handle, \u001b[38;5;28mstr\u001b[39m):\n\u001b[1;32m    855\u001b[0m     \u001b[38;5;66;03m# Check whether the filename is to be opened in binary mode.\u001b[39;00m\n\u001b[1;32m    856\u001b[0m     \u001b[38;5;66;03m# Binary mode does not support 'encoding' and 'newline'.\u001b[39;00m\n\u001b[1;32m    857\u001b[0m     \u001b[38;5;28;01mif\u001b[39;00m ioargs\u001b[38;5;241m.\u001b[39mencoding \u001b[38;5;129;01mand\u001b[39;00m \u001b[38;5;124m\"\u001b[39m\u001b[38;5;124mb\u001b[39m\u001b[38;5;124m\"\u001b[39m \u001b[38;5;129;01mnot\u001b[39;00m \u001b[38;5;129;01min\u001b[39;00m ioargs\u001b[38;5;241m.\u001b[39mmode:\n\u001b[1;32m    858\u001b[0m         \u001b[38;5;66;03m# Encoding\u001b[39;00m\n\u001b[0;32m--> 859\u001b[0m         handle \u001b[38;5;241m=\u001b[39m \u001b[38;5;28;43mopen\u001b[39;49m\u001b[43m(\u001b[49m\n\u001b[1;32m    860\u001b[0m \u001b[43m            \u001b[49m\u001b[43mhandle\u001b[49m\u001b[43m,\u001b[49m\n\u001b[1;32m    861\u001b[0m \u001b[43m            \u001b[49m\u001b[43mioargs\u001b[49m\u001b[38;5;241;43m.\u001b[39;49m\u001b[43mmode\u001b[49m\u001b[43m,\u001b[49m\n\u001b[1;32m    862\u001b[0m \u001b[43m            \u001b[49m\u001b[43mencoding\u001b[49m\u001b[38;5;241;43m=\u001b[39;49m\u001b[43mioargs\u001b[49m\u001b[38;5;241;43m.\u001b[39;49m\u001b[43mencoding\u001b[49m\u001b[43m,\u001b[49m\n\u001b[1;32m    863\u001b[0m \u001b[43m            \u001b[49m\u001b[43merrors\u001b[49m\u001b[38;5;241;43m=\u001b[39;49m\u001b[43merrors\u001b[49m\u001b[43m,\u001b[49m\n\u001b[1;32m    864\u001b[0m \u001b[43m            \u001b[49m\u001b[43mnewline\u001b[49m\u001b[38;5;241;43m=\u001b[39;49m\u001b[38;5;124;43m\"\u001b[39;49m\u001b[38;5;124;43m\"\u001b[39;49m\u001b[43m,\u001b[49m\n\u001b[1;32m    865\u001b[0m \u001b[43m        \u001b[49m\u001b[43m)\u001b[49m\n\u001b[1;32m    866\u001b[0m     \u001b[38;5;28;01melse\u001b[39;00m:\n\u001b[1;32m    867\u001b[0m         \u001b[38;5;66;03m# Binary mode\u001b[39;00m\n\u001b[1;32m    868\u001b[0m         handle \u001b[38;5;241m=\u001b[39m \u001b[38;5;28mopen\u001b[39m(handle, ioargs\u001b[38;5;241m.\u001b[39mmode)\n",
      "\u001b[0;31mFileNotFoundError\u001b[0m: [Errno 2] No such file or directory: '../data/promise_imputado.csv'"
     ]
    }
   ],
   "source": [
    "df = pd.read_csv(\"../data/promise_imputado.csv\", sep = \";\")"
   ]
  },
  {
   "cell_type": "code",
   "execution_count": null,
   "id": "030cd46f-228a-4de9-a501-c81b322452b7",
   "metadata": {},
   "outputs": [],
   "source": [
    "df.head()"
   ]
  },
  {
   "cell_type": "code",
   "execution_count": null,
   "id": "07bda9d4-b1bb-400c-bc7d-d85db4a22285",
   "metadata": {},
   "outputs": [],
   "source": [
    "df[\"obito_uti\"].value_counts()"
   ]
  },
  {
   "cell_type": "code",
   "execution_count": null,
   "id": "9e4771a3-821d-4d1b-88d2-28a504f18f4b",
   "metadata": {},
   "outputs": [],
   "source": [
    "#remove patients without outcomes\n",
    "#remove nans\n",
    "#df.dropna(inplace = True)"
   ]
  },
  {
   "cell_type": "code",
   "execution_count": null,
   "id": "40b0937f-a1f6-43ff-ba71-9911868b5c43",
   "metadata": {},
   "outputs": [],
   "source": [
    "categorical_features = [\"sexo\", \"numero_cirurgias\", \"padronizacao_cirurgias\", \"fechamento_aae\", \"has\", \"dm2\", \"ic_fer\", \"irc\", \"fib_atrial\", \n",
    "                        \"avc\", \"iam\", \"rm_previa\", \"atc_previa\", \"endocardite\", \"vasopress\", \"balao\", \"hemocomponente\", \n",
    "                        \"eco_disf_vd\"]\n",
    "\n",
    "numerical_features = [\"idade\", \"imc\", \"tempo_cec_min\", \"hb_pre_op\", \"hb_pos_op\", \"cr_pre_op\", \"cr_pos_op\", \"tempo_vm_horas\", \n",
    "                      \"pico_tropo\", \"pico_lactato_24h\", \n",
    "                      \"eco_feve\"]\n",
    "\n",
    "outcome = [\"obito_uti\"]"
   ]
  },
  {
   "cell_type": "code",
   "execution_count": null,
   "id": "203ccfff-bdf3-44b4-806d-ecbd5c024e5b",
   "metadata": {},
   "outputs": [],
   "source": [
    "df[numerical_features].dtypes"
   ]
  },
  {
   "cell_type": "code",
   "execution_count": null,
   "id": "4a525a13-ab1a-44b2-85c8-72067fee7703",
   "metadata": {},
   "outputs": [],
   "source": [
    "# #dummy variable\n",
    "# def to_dummy(x):\n",
    "#     if x == 1:\n",
    "#         return 1\n",
    "#     elif x == 2:\n",
    "#         return 0\n",
    "# for col in categorical_features:\n",
    "#     df[col] = df[col].apply(lambda x: to_dummy(x))\n",
    "    \n",
    "#scaleing numerical features\n",
    "scaler = StandardScaler()\n",
    "df[numerical_features] = scaler.fit_transform(df[numerical_features])"
   ]
  },
  {
   "cell_type": "code",
   "execution_count": null,
   "id": "bc7342c4-f72b-4ed5-b7d3-41f80886ea2b",
   "metadata": {},
   "outputs": [],
   "source": [
    "df[\"obito_uti\"].value_counts()"
   ]
  },
  {
   "cell_type": "code",
   "execution_count": null,
   "id": "41918173-6df6-481d-bc22-136d5f08c182",
   "metadata": {},
   "outputs": [],
   "source": [
    "#lead wtih imbalanced data\n",
    "cure = df[df[\"obito_uti\"] == 0]\n",
    "death = df[df[\"obito_uti\"] == 1]\n",
    "cure = cure.sample(n = len(death), random_state = 42)\n",
    "backup_data = df\n",
    "df = pd.concat([cure, death])"
   ]
  },
  {
   "cell_type": "code",
   "execution_count": null,
   "id": "61fc27cb-cbae-4bb4-a8a8-4e438d9b18b9",
   "metadata": {},
   "outputs": [],
   "source": [
    "features_df = df[[col for col in df.columns if col != \"obito_uti\"]]\n",
    "target = df[\"obito_uti\"]"
   ]
  },
  {
   "cell_type": "code",
   "execution_count": null,
   "id": "799bb59d-234b-40cb-9c97-6f739c1810ff",
   "metadata": {},
   "outputs": [],
   "source": [
    "#remove autocorrelated variable\n",
    "#check for VIF\n",
    "vif_data = pd.DataFrame()\n",
    "vif_data[\"feature\"] = features_df.columns"
   ]
  },
  {
   "cell_type": "code",
   "execution_count": null,
   "id": "cca51e55-5f20-4295-bb5e-f8ed9bd732c1",
   "metadata": {},
   "outputs": [],
   "source": [
    "#perform imputation\n",
    "cat_imputer = SimpleImputer(strategy = 'most_frequent', missing_values = np.nan)\n",
    "for col in categorical_features:\n",
    "    cat_imputer.fit(features_df[[col]])\n",
    "    features_df[col] = cat_imputer.transform(features_df[[col]])\n",
    "    \n",
    "    \n",
    "#imput numerical col\n",
    "\n",
    "num_imputer = SimpleImputer(strategy = 'median', missing_values = np.nan)\n",
    "for col in numerical_features:\n",
    "    num_imputer.fit(features_df[[col]])\n",
    "    features_df[col] = num_imputer.transform(features_df[[col]])"
   ]
  },
  {
   "cell_type": "code",
   "execution_count": null,
   "id": "0ca19d95-c6cd-40c4-98cb-e423c0f60577",
   "metadata": {},
   "outputs": [],
   "source": [
    "cols = []\n",
    "value = []\n",
    "cols_to_remove = []\n",
    "for col in features_df.columns:\n",
    "    miss_prop = features_df[col].isna().sum()/features_df.shape[0]\n",
    "    cols.append(col)\n",
    "    value.append(miss_prop)\n",
    "    print(\"{} missing proportion {}\".format(col, miss_prop))\n",
    "    if miss_prop > 0.35:\n",
    "        cols_to_remove.append(col) \n",
    "    \n",
    "#missing = pd.DataFrame.from_dict({\"colum\": cols, \"missing\": value})\n",
    "#missing.to_csv(\"../results/Mising_porp.csv\", index = False)\n",
    "cols_to_remove"
   ]
  },
  {
   "cell_type": "code",
   "execution_count": null,
   "id": "ff5064bf-45c0-413b-9d75-0cfd0abcc808",
   "metadata": {},
   "outputs": [],
   "source": [
    "vif_data[\"VIF\"] = [variance_inflation_factor(features_df.values, i)\n",
    "                          for i in range(len(features_df.columns))]\n",
    "  \n",
    "print(vif_data)"
   ]
  },
  {
   "cell_type": "code",
   "execution_count": null,
   "id": "b95749e5-5df4-42bf-a618-ec4f60bb1a0d",
   "metadata": {},
   "outputs": [],
   "source": [
    "#remove columns with vif greater than 5\n",
    "cols_to_remove = []\n",
    "for col in vif_data[\"feature\"]:\n",
    "    if vif_data[vif_data[\"feature\"] == col][\"VIF\"].values[0] >= 5.0:\n",
    "        cols_to_remove.append(col)"
   ]
  },
  {
   "cell_type": "code",
   "execution_count": null,
   "id": "cfbf05df-f5eb-4277-8f1c-5a1dc3707f67",
   "metadata": {},
   "outputs": [],
   "source": [
    "features_df.drop(columns = cols_to_remove, inplace = True)\n",
    "\n",
    "#remove sts and euro\n",
    "features_df.drop(columns = [\"euro\"], inplace = True)"
   ]
  },
  {
   "cell_type": "code",
   "execution_count": null,
   "id": "bf4d0be0-1108-467a-be21-0605e07575c5",
   "metadata": {},
   "outputs": [],
   "source": [
    "classifier = RandomForestClassifier(random_state = 42)\n",
    "features_to_keep = RFE(classifier, n_features_to_select = 7, step = 1)"
   ]
  },
  {
   "cell_type": "code",
   "execution_count": null,
   "id": "cf258301-f072-4b23-bd56-5e4fffabe762",
   "metadata": {},
   "outputs": [],
   "source": [
    "features_to_keep.fit(features_df, target.values.ravel())"
   ]
  },
  {
   "cell_type": "code",
   "execution_count": null,
   "id": "15beb0e9-84db-46e5-9aa6-552ee4caa429",
   "metadata": {},
   "outputs": [],
   "source": [
    "features_to_keep = [f for f in features_df.columns[features_to_keep.support_]]\n",
    "features_to_keep"
   ]
  },
  {
   "cell_type": "code",
   "execution_count": null,
   "id": "54b404fe-b5c6-46ee-9ace-fe94cd9d0163",
   "metadata": {},
   "outputs": [],
   "source": [
    "param_grid  = {\n",
    "    \"n_estimators\": [100,200,500,700,1000],\n",
    "    \"max_depth\": [2,4,6,8,10,12,14,16]\n",
    "}"
   ]
  },
  {
   "cell_type": "code",
   "execution_count": null,
   "id": "09917b1d-7054-46ab-95fd-521340b43f9a",
   "metadata": {},
   "outputs": [],
   "source": [
    "repeated_cv = RepeatedKFold(n_splits = 10, n_repeats = 10, random_state = 42)\n",
    "model_to_fit = GridSearchCV(classifier, param_grid = param_grid, cv = repeated_cv, n_jobs = 30, scoring = \"roc_auc\")"
   ]
  },
  {
   "cell_type": "code",
   "execution_count": null,
   "id": "6b1cc10d-2526-4df0-95ca-48c2c75c4847",
   "metadata": {},
   "outputs": [],
   "source": [
    "model_to_fit.fit(features_df[features_to_keep], target)"
   ]
  },
  {
   "cell_type": "code",
   "execution_count": null,
   "id": "94c43b00-d568-4358-b015-b2c1f9b1ba9b",
   "metadata": {},
   "outputs": [],
   "source": [
    "print(\"The roc_auc in train set was :\", model_to_fit.best_score_)\n",
    "print(\"Best parameters found was: \", model_to_fit.best_params_)"
   ]
  },
  {
   "cell_type": "code",
   "execution_count": null,
   "id": "0d82f422-95d0-4a2c-aebf-37252173c69b",
   "metadata": {},
   "outputs": [],
   "source": [
    "#compute metrics\n",
    "predicted = model_to_fit.predict(features_df[features_to_keep])\n",
    "predicted_proba = model_to_fit.predict_proba(features_df[features_to_keep])\n",
    "tn, fp, fn, tp = confusion_matrix(y_true = target, y_pred = predicted).ravel()\n",
    "print(classification_report(y_true = target, y_pred = predicted))"
   ]
  },
  {
   "cell_type": "code",
   "execution_count": null,
   "id": "cac3d756-8207-4140-a500-9920ba360d6c",
   "metadata": {},
   "outputs": [],
   "source": [
    "#compute specificity\n",
    "print(tn/(tn + fp))\n",
    "\n",
    "#compute sensitivity\n",
    "print(tp/(tp + fn))\n",
    "\n",
    "\n",
    "#compute ppv\n",
    "print(tp/(tp+fp))\n",
    "      \n",
    "#compute pnv\n",
    "print(tn/(fn+tn))"
   ]
  },
  {
   "cell_type": "code",
   "execution_count": null,
   "id": "e4f0410f-2aab-4466-bfa5-9a57ce635907",
   "metadata": {},
   "outputs": [],
   "source": [
    "79/97"
   ]
  },
  {
   "cell_type": "code",
   "execution_count": null,
   "id": "6f8ce17b-1735-47b7-b834-22ea09b3e634",
   "metadata": {},
   "outputs": [],
   "source": [
    "print(\"Original ROC area: {:0.3f}\".format(roc_auc_score(target, predicted_proba[:,1])))"
   ]
  },
  {
   "cell_type": "code",
   "execution_count": null,
   "id": "5c09edb9-660d-4604-90e2-3c8265d12b91",
   "metadata": {},
   "outputs": [],
   "source": [
    "y_true = target.values\n",
    "y_pred = predicted_proba[:,1]\n",
    "n_bootstraps = 1000\n",
    "rng_seed = 42  # control reproducibility\n",
    "bootstrapped_scores = []\n",
    "fpr_values = []\n",
    "tpr_values = []\n",
    "rng = np.random.RandomState(rng_seed)\n",
    "\n",
    "for i in range(n_bootstraps):\n",
    "     indices = rng.randint(0, len(y_true), len(y_true))\n",
    "     score = roc_auc_score(y_true[indices], y_pred[indices])\n",
    "     fpr, tpr, _ = roc_curve(y_true[indices],  y_pred[indices])\n",
    "     fpr_values.append(fpr)\n",
    "     tpr_values.append(tpr)\n",
    "     bootstrapped_scores.append(score)\n",
    "  \n",
    "sorted_scores = np.array(bootstrapped_scores)\n",
    "sorted_scores.sort()"
   ]
  },
  {
   "cell_type": "code",
   "execution_count": null,
   "id": "c155b5a3-be65-46b0-ae96-f9d235489cf6",
   "metadata": {},
   "outputs": [],
   "source": [
    "confidence_lower = sorted_scores[int(0.05 * len(sorted_scores))]\n",
    "confidence_upper = sorted_scores[int(0.95 * len(sorted_scores))]\n",
    "print(\"Confidence interval for the score: [{:0.3f} - {:0.3}]\".format(\n",
    "    confidence_lower, confidence_upper))"
   ]
  },
  {
   "cell_type": "code",
   "execution_count": null,
   "id": "2aa749d1-d3e0-494b-9b5b-e0a063337857",
   "metadata": {},
   "outputs": [],
   "source": [
    "n_samples = 1000\n",
    "fig, ax = plt.subplots()\n",
    "fig.set_figheight(15)\n",
    "fig.set_figwidth(20)\n",
    "ru.plot_roc_bootstrap(X = y_true, y = predicted, pos_label = True,\n",
    "                      n_bootstrap = n_samples,\n",
    "                      random_state = 15)\n",
    "plt.savefig(\"../results/ROC_plot.pdf\")"
   ]
  },
  {
   "cell_type": "code",
   "execution_count": null,
   "id": "157252d8-f15c-43f1-97c5-3b357435a72f",
   "metadata": {},
   "outputs": [],
   "source": [
    "#calibration plot\n",
    "prob_y, prob_x = calibration_curve(y_true = target, y_prob = predicted_proba[:,1], n_bins = 10)\n",
    "fig, ax = plt.subplots()\n",
    "fig.set_figheight(15)\n",
    "fig.set_figwidth(20)\n",
    "plt.plot(prob_x, prob_y, marker = 'o', linewidth = 2, label = \"rf\")\n",
    "lines = mlines.Line2D([0,1],[0,1], color = \"black\", linewidth = 2)\n",
    "transform = ax.transAxes\n",
    "lines.set_transform(transform)\n",
    "ax.add_line(lines)\n",
    "ax.set_xlabel(\"Predicted probability\", fontsize = 32)\n",
    "ax.set_ylabel(\"True probability in each bin\", fontsize = 32)\n",
    "plt.savefig(\"../results/Calibration_plot.pdf\")"
   ]
  },
  {
   "cell_type": "code",
   "execution_count": null,
   "id": "9d652e8f-2eab-4cb8-add6-6ce860031b01",
   "metadata": {},
   "outputs": [],
   "source": [
    "joblib.dump(model_to_fit.best_estimator_, \"../results/random_forest_model.joblib\")"
   ]
  },
  {
   "cell_type": "code",
   "execution_count": null,
   "id": "ea403860-f273-4b1b-b1e5-173db0f31767",
   "metadata": {},
   "outputs": [],
   "source": [
    "loaded_rf = joblib.load(\"../results/random_forest_model.joblib\")"
   ]
  },
  {
   "cell_type": "code",
   "execution_count": null,
   "id": "7b2cccb4-d9b6-4c2c-bf35-2294d0447b5e",
   "metadata": {},
   "outputs": [],
   "source": [
    "#include a column in data\n",
    "for col in categorical_features:\n",
    "    cat_imputer.fit(backup_data[[col]])\n",
    "    backup_data[col] = cat_imputer.transform(backup_data[[col]])\n",
    "    \n",
    "    \n",
    "#imput numerical col\n",
    "\n",
    "num_imputer = SimpleImputer(strategy = 'median', missing_values = np.nan)\n",
    "for col in numerical_features:\n",
    "    num_imputer.fit(backup_data[[col]])\n",
    "    backup_data[col] = num_imputer.transform(backup_data[[col]])\n",
    "backup_data[\"predicted_rf\"] = model_to_fit.predict_proba(backup_data[[\n",
    " 'idade',\n",
    " 'imc',\n",
    " 'cr_pre_op',\n",
    " 'tempo_vm_horas',\n",
    " 'pico_tropo',\n",
    " 'pico_lactato_24h',\n",
    " 'eco_feve']])[:,1]\n",
    "backup_data.to_csv(\"../results/2023_11_13_data.csv\", index = False)"
   ]
  },
  {
   "cell_type": "code",
   "execution_count": null,
   "id": "2d06ebc1-aa20-4a0a-a4ee-e8bd43374451",
   "metadata": {},
   "outputs": [],
   "source": [
    "print(\"Done\")"
   ]
  }
 ],
 "metadata": {
  "kernelspec": {
   "display_name": "Python 3 (ipykernel)",
   "language": "python",
   "name": "python3"
  },
  "language_info": {
   "codemirror_mode": {
    "name": "ipython",
    "version": 3
   },
   "file_extension": ".py",
   "mimetype": "text/x-python",
   "name": "python",
   "nbconvert_exporter": "python",
   "pygments_lexer": "ipython3",
   "version": "3.10.12"
  }
 },
 "nbformat": 4,
 "nbformat_minor": 5
}
